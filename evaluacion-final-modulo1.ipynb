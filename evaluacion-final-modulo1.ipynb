{
 "cells": [
  {
   "cell_type": "markdown",
   "metadata": {},
   "source": [
    "# **Ejercicio de Evaluación**"
   ]
  },
  {
   "cell_type": "markdown",
   "metadata": {},
   "source": [
    "- La clase TiendaOnline debe tener los siguientes atributos:"
   ]
  },
  {
   "cell_type": "markdown",
   "metadata": {},
   "source": [
    "1. inventario (lista de diccionarios): Un atributo para almacenar los productos en el inventario. Cada producto debe ser representado como un diccionario con las siguientes claves: 'nombre', 'precio', y 'cantidad'. Al principio deberá ser una lista vacía. Ejemplo de como debería ser:  \n",
    ">[{'nombre': 'Camisa', 'precio': 20, 'cantidad': 40},  \n",
    ">{'nombre': 'Pantalón', 'precio': 30, 'cantidad': 30}]\n",
    "2. clientes (diccionario): Un atributo para llevar un registro de los clientes de la tienda. Cada cliente debe ser representado como un diccionario con las siguientes claves: 'nombre' y 'email'. Al inicio deberá ser un diccionario vacío. Además, cada cliente debe tener un historial de compras. Deberá parecerse a:  \n",
    ">{'Cliente1': {'email': 'cliente1@email.com', 'compras': []},  \n",
    ">'Cliente2': {'email': 'cliente2@email.com', 'compras': []}}\n",
    "3. ventas_totales (float): Un atributo para llevar un registro de las ventas totales de la tienda. Inicializalo con valor 0."
   ]
  },
  {
   "cell_type": "markdown",
   "metadata": {},
   "source": [
    "- La clase TiendaOnline debe tener los siguientes métodos:"
   ]
  },
  {
   "cell_type": "markdown",
   "metadata": {},
   "source": [
    "1. agregar_producto(self, nombre, precio, cantidad): Este método agrega un producto al inventario o actualiza su cantidad si ya existe. Debe recibir el nombre, precio y cantidad del producto como parámetros.\n",
    "    - Itera a través del inventario y compara los nombres de los productos con el nombre proporcionado.\n",
    "    - Si el producto ya existe, actualiza la cantidad.\n",
    "    - Si no existe, agrega un nuevo producto al inventario."
   ]
  },
  {
   "cell_type": "markdown",
   "metadata": {},
   "source": [
    "2. ver_inventario(self): Muestra el inventario de productos con sus detalles.\n",
    "    - Utiliza un bucle for para recorrer el inventario.  \n",
    "    -Imprime los detalles (nombre, precio, cantidad) de cada producto.  \n",
    "    - Debería verse:  \n",
    "        >Nombre: Camisa, Precio: $20, Cantidad: 50  \n",
    "        >Nombre: Pantalón, Precio: $30, Cantidad: 30  \n",
    "        >Nombre: Zapatos, Precio: $50, Cantidad: 40  \n",
    "        >Nombre: Camisa, Precio: $20, Cantidad: 50"
   ]
  },
  {
   "cell_type": "markdown",
   "metadata": {},
   "source": [
    "3. buscar_producto(self, nombre): Busca un producto en el inventario por nombre y muestra sus detalles si se encuentra. Debe recibir el nombre del producto como parámetro.  \n",
    "    - Utiliza un bucle for para recorrer el inventario.  \n",
    "    - Compara los nombres de los productos con el nombre proporcionado.  \n",
    "    - Si se encuentra el producto, imprime sus detalles.  \n",
    "    - Debe mostrar:  \n",
    "    > Nombre: Camisa, Precio: $20, Cantidad: 40"
   ]
  },
  {
   "cell_type": "markdown",
   "metadata": {},
   "source": [
    "4. actualizar_stock(self, nombre, cantidad): Actualiza el stock de un producto en el inventario. Debe recibir el nombre del producto y la cantidad a agregar o quitar como parámetros.  \n",
    "    - Utiliza un bucle for para recorrer el inventario.  \n",
    "    - Busca el producto por nombre.  \n",
    "    - Actualiza la cantidad según la entrada del usuario.  \n",
    "    - Si el producto no esta en el inventario muestra un mensaje indicándolo."
   ]
  },
  {
   "cell_type": "markdown",
   "metadata": {},
   "source": [
    "5. eliminar_producto(self, nombre): Elimina un producto del inventario por nombre. Debe recibir el nombre del producto como parámetro.  \n",
    "    - Utiliza un bucle for para recorrer el inventario.  \n",
    "    - Busca el producto por nombre.  \n",
    "    - Elimina el producto del inventario si existe.  \n",
    "    - Si el producto no esta en el inventario muestra un mensaje indicándolo."
   ]
  },
  {
   "cell_type": "markdown",
   "metadata": {},
   "source": [
    "6. calcular_valor_inventario(self): Calcula y muestra el valor total del inventario.  \n",
    "    - Utiliza un bucle for para calcular el valor total del inventario.  \n",
    "    - Itera a través del inventario y suma el valor de cada producto (precio x cantidad). Es decir, calcula el valor total del inventario. Ejemplo:"
   ]
  },
  {
   "cell_type": "code",
   "execution_count": 38,
   "metadata": {},
   "outputs": [],
   "source": [
    "# si tenemos 5 camisas que valen 5 euros \n",
    "# y 10 calcetines que valen 1 euro\n",
    "# este método te tiene que devolver: 35 euros\n",
    "\n",
    "valor_camisas = 5 * 5\n",
    "valor_calcetines = 10 * 1\n",
    "\n",
    "valor_total = valor_camisas + valor_calcetines"
   ]
  },
  {
   "cell_type": "markdown",
   "metadata": {},
   "source": [
    "7. realizar_compra(self): Permite a un cliente realizar una compra seleccionando productos del inventario. Debe interactuar con el cliente para seleccionar productos y calcular el costo total de la compra.  \n",
    "    - Utiliza un bucle while para permitir al cliente realizar múltiples compras.  \n",
    "    - Muestra el inventario y solicita al cliente ingresar el nombre del producto que desea comprar.  \n",
    "    - Registra los productos seleccionados en un carrito y actualiza el inventario.  \n",
    "    - Calcula el costo total de la compra."
   ]
  },
  {
   "cell_type": "markdown",
   "metadata": {},
   "source": [
    "**Ejercicios voluntarios**"
   ]
  },
  {
   "cell_type": "markdown",
   "metadata": {},
   "source": [
    "8. procesar_pago(self): Procesa el pago de una compra, calcula el cambio y muestra un mensaje de confirmación.  \n",
    "    - Utiliza un bloque try...except para manejar excepciones.  \n",
    "    - Solicita al cliente ingresar la cantidad total y la cantidad de pago usando un input.  \n",
    "    - Calcula el cambio y muestra un mensaje de pago exitoso o un error en caso de monto insuficiente."
   ]
  },
  {
   "cell_type": "markdown",
   "metadata": {},
   "source": [
    "9. agregar_cliente(self, nombre, email): Agrega un nuevo cliente al registro de clientes. Debe recibir el nombre y el correo electrónico del cliente como parámetros.  \n",
    "    - Agrega un cliente al diccionario de clientes con su nombre y correo electrónico."
   ]
  },
  {
   "cell_type": "markdown",
   "metadata": {},
   "source": [
    "10. ver_clientes(self): Muestra la lista de clientes registrados con sus nombres y correos electrónicos.  \n",
    "    - Utiliza un bucle for para recorrer la base de datos de clientes.  \n",
    "    - Imprime los detalles de cada cliente (nombre y correo electrónico)."
   ]
  },
  {
   "cell_type": "markdown",
   "metadata": {},
   "source": [
    "11. registrar_compra(self, nombre_cliente, carrito): Registra una compra para un cliente, actualiza las ventas totales y agrega la compra al historial del cliente. Debe recibir el nombre del cliente y el carrito de compras como parámetros.  \n",
    "    - Busca al cliente en el diccionario de clientes.  \n",
    "    - Si el cliente no esta en el diccionario de clientes, muestra que no se puede realizar la acción por que el cliente no está en el diccionario.  \n",
    "    - Calcula el total de la compra y registra la compra, incluyendo los productos y el total.  \n",
    "    - Ejemplo:"
   ]
  },
  {
   "cell_type": "code",
   "execution_count": null,
   "metadata": {},
   "outputs": [],
   "source": [
    "carrito_cliente1 = {\"Camisa\": {\"precio\": 20, \"cantidad\": 3}}\n",
    "tienda.registrar_compra(\"Cliente1\", carrito_cliente1)"
   ]
  },
  {
   "cell_type": "markdown",
   "metadata": {},
   "source": [
    "12. ver_compras_cliente(self, nombre_cliente): Muestra el historial de compras de un cliente. Debe recibir el nombre del cliente como parámetro.  \n",
    "    - Busca al cliente en el diccionario de clientes.  \n",
    "    - Muestra las compras realizadas por el cliente, incluyendo detalles de productos y totales."
   ]
  },
  {
   "cell_type": "markdown",
   "metadata": {},
   "source": [
    "13. calcular_ventas_totales(self): Muestra las ventas totales de la tienda.  \n",
    "    - Suma los totales de todas las compras realizadas y muestra el total de ventas totales en la tienda."
   ]
  },
  {
   "cell_type": "code",
   "execution_count": 38,
   "metadata": {},
   "outputs": [],
   "source": [
    "class TiendaOnline: #creo la clase asignando el nombre class\n",
    "    def __init__(self):\n",
    "        self.inventario = [] #inventario es una lista vacía donde hay que almacenar las clabes: nombre, precio y cantidad\n",
    "        self.clientes = {} #diccionario vacía donde la clave es el cliente y sus datos el valor. Dentro hay otra clave que debe ser email. Añadir historial de compras\n",
    "        self.ventas_totales = 0.0\n",
    "\n",
    "    def agregar_productos(self, nombre, precio, cantidad):\n",
    "        for producto in self.inventario: #busco el producto en la lista del inventario\n",
    "            if producto['nombre'] == nombre: #si el nombre del producto se encuentra en el inventario\n",
    "                producto['cantidad'] += cantidad #actualizo la cantidad sumando la cantidad que me especifica\n",
    "                print(f\"La cantidad del producto {nombre} se ha actualizado. Ahora hay {producto['cantidad']} unidades.\")\n",
    "                \n",
    "        else:\n",
    "                producto = {'nombre':nombre, 'precio':precio, 'cantidad':cantidad} #creo una variable que sea un diccionario con las claves que me piden\n",
    "                self.inventario.append(producto) #si no se encuentra en el inventario lo agrego a la lista\n",
    "                print(f'El producto {nombre} se ha agregado correctamente.')\n",
    "        return f'El inventario actual es {self.inventario}'\n",
    "    \n",
    "    def ver_inventario(self):\n",
    "        for producto in self.inventario: #que vaya imprimiendo cada producto y el valor (al poner la clave saca su valor)\n",
    "            print(f\"Nombre: {producto['nombre']}, Precio: {producto['precio']}$, Cantidad: {producto['cantidad']}\")\n",
    "            \n",
    "    def buscar_producto(self, nombre):\n",
    "        for producto in self.inventario: #me busca el producto en el inventario\n",
    "            if producto['nombre'] == nombre: #lo comparo con el nombre dado. Si se encuentra imprimo los detalles\n",
    "                print(f\"Nombre: {producto['nombre']}, Precio: {producto['precio']}$, Cantidad: {producto['cantidad']}\")\n",
    "                break\n",
    "        else: \n",
    "            print(f'El producto {nombre} no se encuentra en el inventario.') #mensaje que muestre si el producto no se encuentra en el inventario\n",
    "    \n",
    "    def actualizar_stock(self, nombre, cantidad):\n",
    "        for producto in self.inventario: #bucle for para recorrer el inventario\n",
    "            if producto['nombre'] == nombre:\n",
    "                producto['cantidad'] += cantidad #actualiza la cantidad según lo que ingresa el usuario\n",
    "                print(f\"El stock del producto {nombre} ha sido actualizado a {producto['cantidad']} unidades.\") #mensaje que muestra el total de stock que hay en el inventario\n",
    "                break\n",
    "        else:\n",
    "                print(f'El producto {nombre} no se encuentra en stock.') #mensaje que muestra si el producto no está en stock\n",
    "    \n",
    "    def eliminar_producto (self, nombre):\n",
    "        for producto in self.inventario: #bucle for para recorrer el inventario\n",
    "            if producto['nombre'] == nombre: #busca el producto por nombre\n",
    "                self.inventario.remove(producto) #elimina el producto. se podría hacer con .pop pero habría que buscar el índice\n",
    "                print(f'El producto {nombre} ha sido eliminado con éxito.')\n",
    "                break\n",
    "                \n",
    "        else:\n",
    "            print(f'El producto {nombre} no se encuentra en el inventario.') #mensaje que muestra si el producto no está en el inventario\n",
    "    \n",
    "    def calcular_valor_inventario(self):\n",
    "        valor_total = 0 #creo una nueva variable que es 0\n",
    "        for producto in self.inventario: #con un bucle for, va sacando el valor de cada una de las claves que voy a solicitar\n",
    "            valor_total += producto['precio'] * producto['cantidad']\n",
    "            #calcula el valor de cada producto en el inventario y lo suma para dar el valor total\n",
    "        return f'Las ganancias totales son {valor_total} $' #que devuelva el valor total del inventario\n",
    "    \n",
    "    def realizar_compra(self):\n",
    "        carrito = {} #creo un diccionario vacío llamado carrito para que añada los productos de la compra\n",
    "        compra = True #le doy un valor booleano a la compra para que siga el bucle hasta que le cambie el valor\n",
    "        total_compra = 0\n",
    "        print(f'El inventario actual es {self.inventario}') #que muestre el inventario actual\n",
    "        while compra:\n",
    "            #print(f'El inventario actual es {self.inventario}')\n",
    "            producto_usuario = input('Ingresa el producto que deseas añadir al carrito (o escribe NO para finalizar tu compra)')\n",
    "            #pregunto al usuario el producto que quiere buscar. En caso de que no quiera seguir le doy las instrucciones\n",
    "            if producto_usuario.lower() == 'no':\n",
    "                compra = False #aquí rompo el bucle cambiando el valor de compra\n",
    "            \n",
    "            else: \n",
    "                cantidad_usuario = int(input(f'Cantidad de {producto_usuario} que desea comprar: '))\n",
    "                for producto in self.inventario: #itero por los productos del inventario\n",
    "                    if producto['nombre'] == producto_usuario: #comparo que el nombre introducido por el usuario se encuentra en el inventario\n",
    "                        if cantidad_usuario <= producto['cantidad']: #pregunto al usuario la cantidad que quiere comprar \n",
    "                            carrito[producto_usuario] = {'precio': producto['precio'], 'cantidad': cantidad_usuario}\n",
    "                            producto['cantidad'] -= cantidad_usuario\n",
    "                            total_compra += producto['precio'] * cantidad_usuario  # Calcula el costo del producto y lo agrega al costo total\n",
    "                            print(f'El producto seleccionado es {producto_usuario}')\n",
    "                            print (f'El carrito actualmente: {carrito}')\n",
    "                            print(f'El inventario actualmente es {self.inventario}')\n",
    "                            break\n",
    "                        elif cantidad_usuario > producto['cantidad']:\n",
    "                            print(f'No hay suficiente stock de {producto_usuario}.')\n",
    "                            break\n",
    "                else:\n",
    "                    print(f'El producto {producto_usuario} no se encuentra en el inventario.')\n",
    "        print(f'Tu carrito es {carrito}')\n",
    "        print(f'El coste total de su compra es: {total_compra}$')\n",
    "        return carrito\n",
    "    \n",
    "    def procesar_pago(self):\n",
    "        try:\n",
    "            cantidad_total = int(input('Ingresa el total a pagar del carrito:')) #le pido al usuario que introduzca la cantidad que debe pagar\n",
    "            print(f'Debe ingresar {cantidad_total}')\n",
    "            cantidad_pago = int(input('Ingresa la cantidad de pago:')) #le pido al usuario que ingrese el dinero\n",
    "            cambio = cantidad_pago - cantidad_total #calculo el cambio\n",
    "            \n",
    "            if cambio > 0:\n",
    "                print(f'Ha ingresado {cantidad_pago}. Ha pagado con éxito. Su cambio es {cambio}')\n",
    "            elif cambio == 0:\n",
    "                print(f'Ha ingresado {cantidad_pago}. Ha pagado con éxito.')\n",
    "            else:\n",
    "                cantidad_pago = int(input('Cantidad insuficiente. Proporcione la cantidad correcta.')) #le pido al usuario que ingrese el dinero correcto\n",
    "                print(f'Ha ingresado {cantidad_pago}. Cantidad insuficiente. Proporcione la cantidad correcta.')\n",
    "                cambio = cantidad_pago - cantidad_total \n",
    "                if cambio > 0: #vuelvo a meter las condiciones anteriores\n",
    "                    print(f'Ha ingresado {cantidad_pago}. Ha pagado con éxito. Su cambio es {cambio}')\n",
    "                elif cambio == 0:\n",
    "                    print(f'Ha ingresado {cantidad_pago}. Ha pagado con éxito.')\n",
    "        except ValueError: #si el usuario no introduce un float da error y pide que ingrese un número\n",
    "            print(f'ERROR. Ingrese valores numéricos válidos.')\n",
    "        \n",
    "    def agregar_cliente(self, nombre_cliente, email):\n",
    "        if email in self.clientes: #busco por email para evitar que el nombre esté duplicado\n",
    "            print(f'El email {email} ya está registrado.') #en caso de que se introduzca el mismo correo avisar de que ya está registrado\n",
    "        else:\n",
    "            self.clientes[nombre_cliente] = {'email':email, 'compras':[]} #agrego el cliente en el diccionario\n",
    "            print(f'El cliente {nombre_cliente} ha sido agregado a la lista de clientes.')\n",
    "    \n",
    "    def ver_clientes(self):\n",
    "        for nombre_cliente, email in self.clientes.items():\n",
    "            print(f\"Nombre: {nombre_cliente}, Email: {email['email']}\") \n",
    "    \n",
    "    def registrar_compra(self, nombre_cliente, carrito):\n",
    "        if nombre_cliente not in self.clientes:\n",
    "            print(f'El cliente {nombre_cliente} no se encuentra en el diccionario de clientes.')\n",
    "        else:\n",
    "            #creo una variable que se llama compra que va a dar la compra total del cliente. Valor original de 0\n",
    "            compra_total = 0\n",
    "            for producto in carrito.values(): #itero por cada uno de los productos del carrito\n",
    "                compra_total += producto['precio'] * producto['cantidad'] #hago un cálculo de la suma total de la compra\n",
    "            \n",
    "            compra_cliente = {'productos': carrito, 'total': compra_total} #creo una variable que es un diccionario con los productos del carrito y el valor total de la compra\n",
    "            self.clientes[nombre_cliente]['compras'].append(compra_cliente) #se agrega a la lista de compra del cliente\n",
    "            \n",
    "            self.ventas_totales += compra_total #sumo el valor del total de la compra a las ventas\n",
    "            print(f'La compra ha sido registrada')\n",
    "            print(f'El total de la compra del cliente {nombre_cliente} es {compra_total}')\n",
    "\n",
    "    def ver_compras_cliente(self, nombre_cliente):\n",
    "        if nombre_cliente in self.clientes: #miro si el nombre se encuentra en la lista de clientes\n",
    "            datos_cliente = self.clientes.get(nombre_cliente) #saco el valor del nombre\n",
    "            lista_cliente_compra = datos_cliente.get('compras') #especifico que quiero que se vean las compras \n",
    "            print(f'Las compras de {nombre_cliente} son: {lista_cliente_compra}')\n",
    "    \n",
    "    def calcular_ventas_totales(self):\n",
    "        print(f\"Ventas totales de la tienda son: {self.ventas_totales}$\") #en registrar compra creé el valor que modificaba la lista de ventas totales\n"
   ]
  },
  {
   "cell_type": "markdown",
   "metadata": {},
   "source": [
    "*Comprobación de los métodos*"
   ]
  },
  {
   "cell_type": "code",
   "execution_count": 36,
   "metadata": {},
   "outputs": [
    {
     "name": "stdout",
     "output_type": "stream",
     "text": [
      "---\n",
      "El producto Camiseta se ha agregado correctamente.\n",
      "El producto Vestido se ha agregado correctamente.\n",
      "El producto Pantalón se ha agregado correctamente.\n",
      "El producto Zapatos se ha agregado correctamente.\n",
      "---\n",
      "Nombre: Camiseta, Precio: 20$, Cantidad: 50\n",
      "Nombre: Vestido, Precio: 30$, Cantidad: 50\n",
      "Nombre: Pantalón, Precio: 25$, Cantidad: 50\n",
      "Nombre: Zapatos, Precio: 50$, Cantidad: 20\n"
     ]
    }
   ],
   "source": [
    "#Crear la tienda:\n",
    "mi_tienda = TiendaOnline()\n",
    "\n",
    "print('---')\n",
    "\n",
    "#Agregar productos:\n",
    "mi_tienda.agregar_productos('Camiseta', 20, 50)\n",
    "mi_tienda.agregar_productos('Vestido', 30, 50)\n",
    "mi_tienda.agregar_productos('Pantalón', 25, 50)\n",
    "mi_tienda.agregar_productos('Zapatos', 50, 20)\n",
    "\n",
    "\n",
    "print('---')\n",
    "\n",
    "#Ver inventario:\n",
    "mi_tienda.ver_inventario()"
   ]
  },
  {
   "cell_type": "code",
   "execution_count": 27,
   "metadata": {},
   "outputs": [
    {
     "name": "stdout",
     "output_type": "stream",
     "text": [
      "Nombre: Zapatos, Precio: 50$, Cantidad: 20\n",
      "---\n",
      "El stock del producto Zapatos ha sido actualizado a 40 unidades.\n",
      "Nombre: Camiseta, Precio: 20$, Cantidad: 50\n",
      "Nombre: Vestido, Precio: 30$, Cantidad: 50\n",
      "Nombre: Pantalón, Precio: 25$, Cantidad: 50\n",
      "Nombre: Zapatos, Precio: 50$, Cantidad: 40\n",
      "---\n",
      "El producto Pantalón ha sido eliminado con éxito.\n",
      "Nombre: Camiseta, Precio: 20$, Cantidad: 50\n",
      "Nombre: Vestido, Precio: 30$, Cantidad: 50\n",
      "Nombre: Zapatos, Precio: 50$, Cantidad: 40\n",
      "---\n"
     ]
    },
    {
     "data": {
      "text/plain": [
       "'Las ganancias totales son 4500 $'"
      ]
     },
     "execution_count": 27,
     "metadata": {},
     "output_type": "execute_result"
    }
   ],
   "source": [
    "#Buscar producto\n",
    "mi_tienda.buscar_producto('Zapatos')\n",
    "print('---')\n",
    "\n",
    "#Actualizar stock\n",
    "mi_tienda.actualizar_stock('Zapatos', 20)\n",
    "mi_tienda.ver_inventario()\n",
    "print('---')\n",
    "\n",
    "#Eliminar Producto\n",
    "mi_tienda.eliminar_producto('Pantalón')\n",
    "mi_tienda.ver_inventario()\n",
    "print('---')\n",
    "\n",
    "#Calcular Valor\n",
    "mi_tienda.calcular_valor_inventario()"
   ]
  },
  {
   "cell_type": "code",
   "execution_count": 28,
   "metadata": {},
   "outputs": [
    {
     "name": "stdout",
     "output_type": "stream",
     "text": [
      "El inventario actual es [{'nombre': 'Camiseta', 'precio': 20, 'cantidad': 50}, {'nombre': 'Vestido', 'precio': 30, 'cantidad': 50}, {'nombre': 'Zapatos', 'precio': 50, 'cantidad': 40}]\n",
      "El producto seleccionado es Vestido\n",
      "El carrito actualmente: {'Vestido': {'precio': 30, 'cantidad': 2}}\n",
      "El inventario actualmente es [{'nombre': 'Camiseta', 'precio': 20, 'cantidad': 50}, {'nombre': 'Vestido', 'precio': 30, 'cantidad': 48}, {'nombre': 'Zapatos', 'precio': 50, 'cantidad': 40}]\n",
      "El producto seleccionado es Zapatos\n",
      "El carrito actualmente: {'Vestido': {'precio': 30, 'cantidad': 2}, 'Zapatos': {'precio': 50, 'cantidad': 2}}\n",
      "El inventario actualmente es [{'nombre': 'Camiseta', 'precio': 20, 'cantidad': 50}, {'nombre': 'Vestido', 'precio': 30, 'cantidad': 48}, {'nombre': 'Zapatos', 'precio': 50, 'cantidad': 38}]\n",
      "El producto Pantalón no se encuentra en el inventario.\n",
      "Tu carrito es {'Vestido': {'precio': 30, 'cantidad': 2}, 'Zapatos': {'precio': 50, 'cantidad': 2}}\n",
      "El coste total de su compra es: 160$\n"
     ]
    }
   ],
   "source": [
    "#Realizar compra 1\n",
    "#le asigno una variable para el resto de funciones\n",
    "carrito1 = mi_tienda.realizar_compra()"
   ]
  },
  {
   "cell_type": "code",
   "execution_count": 30,
   "metadata": {},
   "outputs": [
    {
     "name": "stdout",
     "output_type": "stream",
     "text": [
      "El inventario actual es [{'nombre': 'Camiseta', 'precio': 20, 'cantidad': 49}, {'nombre': 'Vestido', 'precio': 30, 'cantidad': 48}, {'nombre': 'Zapatos', 'precio': 50, 'cantidad': 34}]\n",
      "El producto seleccionado es Zapatos\n",
      "El carrito actualmente: {'Zapatos': {'precio': 50, 'cantidad': 4}}\n",
      "El inventario actualmente es [{'nombre': 'Camiseta', 'precio': 20, 'cantidad': 49}, {'nombre': 'Vestido', 'precio': 30, 'cantidad': 48}, {'nombre': 'Zapatos', 'precio': 50, 'cantidad': 30}]\n",
      "Tu carrito es {'Zapatos': {'precio': 50, 'cantidad': 4}}\n",
      "El coste total de su compra es: 200$\n"
     ]
    }
   ],
   "source": [
    "#Realizar compra 2\n",
    "carrito2 = mi_tienda.realizar_compra()"
   ]
  },
  {
   "cell_type": "code",
   "execution_count": 39,
   "metadata": {},
   "outputs": [
    {
     "name": "stdout",
     "output_type": "stream",
     "text": [
      "Debe ingresar 50\n",
      "Ha ingresado 50. Ha pagado con éxito.\n"
     ]
    }
   ],
   "source": [
    "#Procesar pago\n",
    "mi_tienda.procesar_pago()"
   ]
  },
  {
   "cell_type": "code",
   "execution_count": 32,
   "metadata": {},
   "outputs": [
    {
     "name": "stdout",
     "output_type": "stream",
     "text": [
      "El cliente Juana ha sido agregado a la lista de clientes.\n",
      "El cliente Eustaquia ha sido agregado a la lista de clientes.\n",
      "El cliente Pascasia ha sido agregado a la lista de clientes.\n",
      "---\n",
      "Nombre: Juana, Email: email1@ejemplo.com\n",
      "Nombre: Eustaquia, Email: email2@ejemplo.com\n",
      "Nombre: Pascasia, Email: email3@ejemplo.com\n"
     ]
    }
   ],
   "source": [
    "#Agregar cliente\n",
    "\n",
    "cliente1 = mi_tienda.agregar_cliente('Juana', 'email1@ejemplo.com')\n",
    "cliente2 = mi_tienda.agregar_cliente('Eustaquia', 'email2@ejemplo.com')\n",
    "cliente3 = mi_tienda.agregar_cliente('Pascasia', 'email3@ejemplo.com')\n",
    "print('---')\n",
    "\n",
    "#Ver cliente\n",
    "mi_tienda.ver_clientes()\n"
   ]
  },
  {
   "cell_type": "code",
   "execution_count": 33,
   "metadata": {},
   "outputs": [
    {
     "name": "stdout",
     "output_type": "stream",
     "text": [
      "La compra ha sido registrada\n",
      "El total de la compra del cliente Juana es 160\n",
      "*\n",
      "La compra ha sido registrada\n",
      "El total de la compra del cliente Eustaquia es 200\n",
      "---\n",
      "Las compras de Juana son: [{'productos': {'Vestido': {'precio': 30, 'cantidad': 2}, 'Zapatos': {'precio': 50, 'cantidad': 2}}, 'total': 160}]\n"
     ]
    }
   ],
   "source": [
    "#Registrar compra\n",
    "mi_tienda.registrar_compra('Juana', carrito1)\n",
    "print('*')\n",
    "mi_tienda.registrar_compra('Eustaquia', carrito2)\n",
    "print('---')\n",
    "#Ver compras\n",
    "mi_tienda.ver_compras_cliente('Juana')\n"
   ]
  },
  {
   "cell_type": "code",
   "execution_count": 34,
   "metadata": {},
   "outputs": [
    {
     "name": "stdout",
     "output_type": "stream",
     "text": [
      "Ventas totales de la tienda sin: 360.0$\n"
     ]
    }
   ],
   "source": [
    "#Calcular ventas totales\n",
    "mi_tienda.calcular_ventas_totales()"
   ]
  }
 ],
 "metadata": {
  "kernelspec": {
   "display_name": "base",
   "language": "python",
   "name": "python3"
  },
  "language_info": {
   "codemirror_mode": {
    "name": "ipython",
    "version": 3
   },
   "file_extension": ".py",
   "mimetype": "text/x-python",
   "name": "python",
   "nbconvert_exporter": "python",
   "pygments_lexer": "ipython3",
   "version": "3.9.7"
  }
 },
 "nbformat": 4,
 "nbformat_minor": 2
}
